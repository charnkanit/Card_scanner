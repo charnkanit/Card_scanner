{
 "cells": [
  {
   "cell_type": "code",
   "execution_count": 1,
   "metadata": {},
   "outputs": [],
   "source": [
    "# Libray\n",
    "import cv2 \n",
    "import ipywidgets as widgets\n",
    "from ipywidgets import Layout, Button, Box, VBox, HBox\n",
    "from ipywidgets import interact, interactive, fixed, interact_manual\n",
    "from os import path, getcwd\n",
    "import requests\n",
    "import IPython\n",
    "from IPython.display import display, clear_output"
   ]
  },
  {
   "cell_type": "code",
   "execution_count": 2,
   "metadata": {},
   "outputs": [],
   "source": [
    "# Check if haarcascade.xml is exists in directory\n",
    "def checkHaar():\n",
    "    if path.exists('haarcascade_frontalface_default.xml') == False:\n",
    "        print('Missing haarcascade.xml')\n",
    "        r = requests.get('https://raw.githubusercontent.com/opencv/opencv/master/data/haarcascades/haarcascade_frontalface_default.xml')\n",
    "        filename = 'haarcascade_frontalface_default.xml'\n",
    "        f = open(filename, 'wb')\n",
    "        f.write(r.content)\n",
    "        print('haarcascade.xml download complete')\n",
    "    else:\n",
    "        print('haarcascade.xml is already exist')"
   ]
  },
  {
   "cell_type": "code",
   "execution_count": 3,
   "metadata": {},
   "outputs": [],
   "source": [
    "# Turn on camera and take a picture\n",
    "def takePicture():\n",
    "    video_capture = cv2.VideoCapture(0)\n",
    "    while True:\n",
    "        ret, frame = video_capture.read()\n",
    "\n",
    "        cv2.imshow('Camera', frame)\n",
    "\n",
    "        if cv2.waitKey(1) & 0xFF == ord('q'):\n",
    "            break\n",
    "\n",
    "    # When everything is done, release the capture\n",
    "    video_capture.release()\n",
    "    cv2.destroyAllWindows()"
   ]
  },
  {
   "cell_type": "code",
   "execution_count": 4,
   "metadata": {},
   "outputs": [],
   "source": [
    "def uploadImg():\n",
    "    uploadImg.upload = widgets.FileUpload(\n",
    "        accept = '',  # Accepted file extension e.g. '.txt', '.pdf', 'image/*', 'image/*,.pdf'\n",
    "        multiple = False  # True to accept multiple files upload else False\n",
    "    )\n",
    "    \n",
    "    uploadImg.btn1 = widgets.Button(\n",
    "        description = 'show image',\n",
    "        disabled = False,\n",
    "        button_style = 'success', # 'success', 'info', 'warning', 'danger' or ''\n",
    "        tooltip = 'Click me',\n",
    "        icon = 'check' # (FontAwesome names without the `fa-` prefix)\n",
    "    )\n",
    "    \n",
    "    out = widgets.Output()\n",
    "    display(uploadImg.upload)\n",
    "    display(widgets.VBox([uploadImg.btn1, out]))\n",
    "\n",
    "    def clicked_showImg(b):\n",
    "        with out:\n",
    "            print(uploadImg.upload.value)\n",
    "\n",
    "    uploadImg.btn1.on_click(clicked_showImg)\n",
    "    \n",
    "\n",
    "\n",
    "   "
   ]
  },
  {
   "cell_type": "code",
   "execution_count": 7,
   "metadata": {},
   "outputs": [
    {
     "data": {
      "application/vnd.jupyter.widget-view+json": {
       "model_id": "c24371743934437fa71008a5eee10a69",
       "version_major": 2,
       "version_minor": 0
      },
      "text/plain": [
       "FileUpload(value={}, description='Upload')"
      ]
     },
     "metadata": {},
     "output_type": "display_data"
    },
    {
     "data": {
      "application/vnd.jupyter.widget-view+json": {
       "model_id": "9c020b9b8ed74d6e9f4c205d16bf5760",
       "version_major": 2,
       "version_minor": 0
      },
      "text/plain": [
       "VBox(children=(Button(button_style='success', description='show image', icon='check', style=ButtonStyle(), too…"
      ]
     },
     "metadata": {},
     "output_type": "display_data"
    },
    {
     "name": "stdout",
     "output_type": "stream",
     "text": [
      "{}\n"
     ]
    }
   ],
   "source": [
    "uploadImg()\n",
    "print(uploadImg.upload.value)"
   ]
  },
  {
   "cell_type": "code",
   "execution_count": null,
   "metadata": {},
   "outputs": [],
   "source": []
  }
 ],
 "metadata": {
  "interpreter": {
   "hash": "f872f41279eb52e1ebb731ae8d0f9ff4af057fc2591e39fa5f811059fbfac39a"
  },
  "kernelspec": {
   "display_name": "Python 3.7.11 ('face_recognition')",
   "language": "python",
   "name": "python3"
  },
  "language_info": {
   "codemirror_mode": {
    "name": "ipython",
    "version": 3
   },
   "file_extension": ".py",
   "mimetype": "text/x-python",
   "name": "python",
   "nbconvert_exporter": "python",
   "pygments_lexer": "ipython3",
   "version": "3.8.12"
  },
  "orig_nbformat": 4
 },
 "nbformat": 4,
 "nbformat_minor": 2
}
