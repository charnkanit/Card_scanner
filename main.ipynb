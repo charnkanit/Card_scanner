{
 "cells": [
  {
   "cell_type": "code",
   "execution_count": 6,
   "metadata": {},
   "outputs": [],
   "source": [
    "# Libray\n",
    "import cv2 \n",
    "import ipywidgets as widgets\n",
    "from ipywidgets import Layout, Button, Box, VBox, HBox\n",
    "from os import path, getcwd\n",
    "import requests\n",
    "import IPython\n",
    "from IPython.display import display, clear_output"
   ]
  },
  {
   "cell_type": "code",
   "execution_count": 7,
   "metadata": {},
   "outputs": [],
   "source": [
    "# Check if haarcascade.xml is exists in directory\n",
    "def checkHaar():\n",
    "    if path.exists('haarcascade_frontalface_default.xml') == False:\n",
    "        print('Missing haarcascade.xml')\n",
    "        r = requests.get('https://raw.githubusercontent.com/opencv/opencv/master/data/haarcascades/haarcascade_frontalface_default.xml')\n",
    "        directory = getcwd()\n",
    "        filename = 'haarcascade_frontalface_default.xml'\n",
    "        f = open(filename, 'wb')\n",
    "        f.write(r.content)\n",
    "        print('haarcascade.xml download complete')\n",
    "    else:\n",
    "        print('haarcascade.xml is already exist')"
   ]
  },
  {
   "cell_type": "code",
   "execution_count": 8,
   "metadata": {},
   "outputs": [],
   "source": [
    "# Turn on camera and take a picture\n",
    "def takePicture():\n",
    "    video_capture = cv2.VideoCapture(0)\n",
    "    while True:\n",
    "        ret, frame = video_capture.read()\n",
    "\n",
    "        cv2.imshow('Camera', frame)\n",
    "\n",
    "        if cv2.waitKey(1) & 0xFF == ord('q'):\n",
    "            break\n",
    "\n",
    "    # When everything is done, release the capture\n",
    "    video_capture.release()\n",
    "    cv2.destroyAllWindows()"
   ]
  },
  {
   "cell_type": "code",
   "execution_count": 9,
   "metadata": {},
   "outputs": [],
   "source": [
    "def uploadImg():\n",
    "    uploadImg.upload = widgets.FileUpload(\n",
    "        accept = '',  # Accepted file extension e.g. '.txt', '.pdf', 'image/*', 'image/*,.pdf'\n",
    "        multiple = False  # True to accept multiple files upload else False\n",
    "    )\n",
    "    \n",
    "    uploadImg.showImg = widgets.Button(\n",
    "        description = 'show image',\n",
    "        disabled = False,\n",
    "        button_style = 'success', # 'success', 'info', 'warning', 'danger' or ''\n",
    "        tooltip = 'Click me',\n",
    "        icon = 'check' # (FontAwesome names without the `fa-` prefix)\n",
    "    )\n",
    "    display(uploadImg.upload, uploadImg.showImg)\n",
    "\n",
    "    def on_button_clicked_showImg(b):   \n",
    "        print('fuck')\n",
    "        \"\"\"\n",
    "        uploadImg.img1 = widgets.Image(\n",
    "            value = uploadImg.upload,\n",
    "            format = 'png',\n",
    "            width = 400,\n",
    "            height = 400,\n",
    "        )   \n",
    "        display(uploadImg.img1)\n",
    "        \"\"\"\n",
    "\n",
    "    uploadImg.showImg.on_click(on_button_clicked_showImg)\n",
    "\n",
    "\n",
    "   "
   ]
  },
  {
   "cell_type": "code",
   "execution_count": 10,
   "metadata": {},
   "outputs": [
    {
     "data": {
      "application/vnd.jupyter.widget-view+json": {
       "model_id": "c7982cd0d19642e18db8b9a7014fc5ca",
       "version_major": 2,
       "version_minor": 0
      },
      "text/plain": [
       "FileUpload(value={}, description='Upload')"
      ]
     },
     "metadata": {},
     "output_type": "display_data"
    },
    {
     "data": {
      "application/vnd.jupyter.widget-view+json": {
       "model_id": "5807a481bcca48a18254c9ebd59e0f77",
       "version_major": 2,
       "version_minor": 0
      },
      "text/plain": [
       "Button(button_style='success', description='show image', icon='check', style=ButtonStyle(), tooltip='Click me'…"
      ]
     },
     "metadata": {},
     "output_type": "display_data"
    }
   ],
   "source": [
    "uploadImg()"
   ]
  },
  {
   "cell_type": "code",
   "execution_count": null,
   "metadata": {},
   "outputs": [],
   "source": []
  }
 ],
 "metadata": {
  "interpreter": {
   "hash": "f872f41279eb52e1ebb731ae8d0f9ff4af057fc2591e39fa5f811059fbfac39a"
  },
  "kernelspec": {
   "display_name": "Python 3.7.11 ('face_recognition')",
   "language": "python",
   "name": "python3"
  },
  "language_info": {
   "codemirror_mode": {
    "name": "ipython",
    "version": 3
   },
   "file_extension": ".py",
   "mimetype": "text/x-python",
   "name": "python",
   "nbconvert_exporter": "python",
   "pygments_lexer": "ipython3",
   "version": "3.7.11"
  },
  "orig_nbformat": 4
 },
 "nbformat": 4,
 "nbformat_minor": 2
}
